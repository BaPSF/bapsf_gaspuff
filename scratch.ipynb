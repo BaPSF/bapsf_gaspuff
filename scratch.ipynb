{
 "cells": [
  {
   "cell_type": "code",
   "execution_count": 2,
   "metadata": {},
   "outputs": [
    {
     "data": {
      "text/plain": [
       "[1, 2, 3]"
      ]
     },
     "execution_count": 2,
     "metadata": {},
     "output_type": "execute_result"
    }
   ],
   "source": [
    "a = []\n",
    "b = [1, 2, 3]\n",
    "a.extend(b)\n",
    "a"
   ]
  },
  {
   "cell_type": "code",
   "execution_count": 3,
   "metadata": {},
   "outputs": [
    {
     "data": {
      "text/plain": [
       "1705175981.811689"
      ]
     },
     "execution_count": 3,
     "metadata": {},
     "output_type": "execute_result"
    }
   ],
   "source": [
    "import time\n",
    "time.time()"
   ]
  },
  {
   "cell_type": "code",
   "execution_count": 4,
   "metadata": {},
   "outputs": [
    {
     "name": "stdout",
     "output_type": "stream",
     "text": [
      "COM4 Standard Serial over Bluetooth link (COM4) BTHENUM\\{00001101-0000-1000-8000-00805F9B34FB}_LOCALMFG&0000\\7&3217A7B6&0&000000000000_00000000\n",
      "COM3 Standard Serial over Bluetooth link (COM3) BTHENUM\\{00001101-0000-1000-8000-00805F9B34FB}_LOCALMFG&0002\\7&3217A7B6&0&646876BE677C_C00000000\n"
     ]
    }
   ],
   "source": [
    "import serial\n",
    "from serial.tools import list_ports\n",
    "enmu_ports = enumerate(list_ports.comports(include_links=True))\n",
    "\n",
    "port = \"\"\n",
    "for n, (p, descriptor, hid) in enmu_ports:\n",
    "    print(p, descriptor, hid)"
   ]
  },
  {
   "cell_type": "code",
   "execution_count": 6,
   "metadata": {},
   "outputs": [
    {
     "name": "stdout",
     "output_type": "stream",
     "text": [
      "2\n",
      "1\n",
      "2\n",
      "2\n",
      "2\n",
      "1\n",
      "2\n",
      "1\n",
      "2\n",
      "2\n",
      "2\n",
      "1\n",
      "1\n",
      "2\n",
      "2\n",
      "2\n",
      "1\n",
      "3\n"
     ]
    }
   ],
   "source": [
    "import usb.core\n",
    "import usb.util\n",
    "\n",
    "# find all USB devices\n",
    "devices = usb.core.find(find_all=True)\n",
    "\n",
    "# print the device descriptors\n",
    "for device in devices:\n",
    "    print(device.bus)"
   ]
  },
  {
   "cell_type": "code",
   "execution_count": 22,
   "metadata": {},
   "outputs": [
    {
     "name": "stdout",
     "output_type": "stream",
     "text": [
      "0.002987384796142578\n",
      "0.9473078065063205\n"
     ]
    }
   ],
   "source": [
    "import time\n",
    "import random\n",
    "t = time.time()\n",
    "arr = [0] * 10000\n",
    "for i in range(10000):\n",
    "    arr[i] = random.random()\n",
    "\n",
    "print(time.time() - t)\n",
    "print(arr[-1])"
   ]
  }
 ],
 "metadata": {
  "kernelspec": {
   "display_name": ".venv",
   "language": "python",
   "name": "python3"
  },
  "language_info": {
   "codemirror_mode": {
    "name": "ipython",
    "version": 3
   },
   "file_extension": ".py",
   "mimetype": "text/x-python",
   "name": "python",
   "nbconvert_exporter": "python",
   "pygments_lexer": "ipython3",
   "version": "3.9.7"
  }
 },
 "nbformat": 4,
 "nbformat_minor": 2
}
